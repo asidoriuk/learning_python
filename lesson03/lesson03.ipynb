{
 "cells": [
  {
   "cell_type": "code",
   "execution_count": 207,
   "metadata": {},
   "outputs": [
    {
     "name": "stdout",
     "output_type": "stream",
     "text": [
      "77\n"
     ]
    }
   ],
   "source": [
    "__author__ = 'Алексей Сидорюк'\n",
    "\n",
    "# 1. В диапазоне натуральных чисел от 2 до 99 определить, сколько из них кратны любому из чисел в диапазоне от 2 до 9.\n",
    "\n",
    "n100 = [i for i in range(2,100)]\n",
    "n10 = n100[:8]\n",
    "\n",
    "cnt = 0\n",
    "\n",
    "# 2 кратен 2, 3 - 3, и т. д. такие случаи считаются. Это не задача подсчета количества непростых чисел.\n",
    "\n",
    "for x in n100:\n",
    "    for y in n10:\n",
    "        if x%y == 0:\n",
    "            cnt += 1\n",
    "            # если проверяется уникальная кратность, то до первого выполнения условия.\n",
    "            # Иначе, например, 6 кратно 2 и 3 и посчитается дважды.\n",
    "            break\n",
    "\n",
    "print(cnt)"
   ]
  },
  {
   "cell_type": "code",
   "execution_count": 81,
   "metadata": {},
   "outputs": [
    {
     "name": "stdout",
     "output_type": "stream",
     "text": [
      "[-58, 21, 100, 98, -43, 88, 50, 72, 40, -71]\n",
      "[0, 2, 3, 5, 6, 7, 8]\n"
     ]
    }
   ],
   "source": [
    "# 2. Во втором массиве сохранить индексы четных элементов первого массива.\n",
    "# Например, если дан массив со значениями 8, 3, 15, 6, 4, 2, то во второй массив надо заполнить значениями 1, 4, 5, 6\n",
    "# (или 0, 3, 4, 5 - если индексация начинается с нуля), т.к. именно в этих позициях первого массива стоят четные числа.\n",
    "\n",
    "from random import randint\n",
    "\n",
    "rnd_lst = [randint(-100,100) for _ in range(0,10)]\n",
    "tmp_lst = [idx if x % 2 == 0 else '-' for idx, x in enumerate(rnd_lst)]\n",
    "\n",
    "even_idx_lst = []\n",
    "\n",
    "for x in tmp_lst:\n",
    "    if type(x) == int:\n",
    "        even_idx_lst.append(x)\n",
    "\n",
    "print(rnd_lst)\n",
    "print(even_idx_lst)"
   ]
  },
  {
   "cell_type": "code",
   "execution_count": 91,
   "metadata": {},
   "outputs": [
    {
     "name": "stdout",
     "output_type": "stream",
     "text": [
      "[-71, 42, 79, -6, -41, 97, 61, -63, 13, -9, 22, 49, -38, 7, 43, -46, -25, -24, -47, -16]\n",
      "[97, 42, 79, -6, -41, -71, 61, -63, 13, -9, 22, 49, -38, 7, 43, -46, -25, -24, -47, -16]\n"
     ]
    }
   ],
   "source": [
    "# 3. В массиве случайных целых чисел поменять местами минимальный и максимальный элементы.\n",
    "# Меняются не элементы, а значения. Элементов может быть разное количество.\n",
    "\n",
    "from random import randint\n",
    "\n",
    "rnd_lst = [randint(-100,100) for _ in range(0,20)]\n",
    "\n",
    "print(rnd_lst)\n",
    "\n",
    "max_el = max(rnd_lst)\n",
    "min_el = min(rnd_lst)\n",
    "\n",
    "for idx, i in enumerate(rnd_lst):\n",
    "    if i == max_el:\n",
    "        rnd_lst[idx] = min_el\n",
    "    elif i == min_el:\n",
    "        rnd_lst[idx] = max_el\n",
    "\n",
    "print(rnd_lst)"
   ]
  },
  {
   "cell_type": "code",
   "execution_count": 123,
   "metadata": {},
   "outputs": [
    {
     "name": "stdout",
     "output_type": "stream",
     "text": [
      "[1, -4, 2, 5, 4, -4, 0, 5, 2, 2, -1, 0, -5, 4, -1, -2, -1, -5, -4, -1, -5, -2, 4, 3, 2, -5, -5, 5, 0, 1, -1, 4, -1, -5, 5, -4, 3, -2, -4, 0, 5, 1, 5, -1, 0, 2, -1, -5, 3, 1, -1, -1, 2, -2, -3, -5, 0, -2, -1, 3, 1, -3, -3, -5, -5, 4, -4, -3, 5, 4, -2, 1, -1, -2, 4, -3, -3, -2, 1, -4, -4, -4, -3, -5, 4, -5, 1, 3, 3, 0, -3, 1, -2, -1, 4, -3, -2, 2, -5, 4]\n",
      "{0: 7, 1: 9, 2: 7, 3: 6, 4: 10, 5: 7, -2: 10, -5: 13, -4: 9, -3: 9, -1: 13}\n",
      "В списке значение -5 встречается чаще всего - 13 раз.\n",
      "В списке значение -1 встречается чаще всего - 13 раз.\n"
     ]
    }
   ],
   "source": [
    "# 4. Определить, какое число в массиве встречается чаще всего.\n",
    "\n",
    "from random import randint\n",
    "\n",
    "rnd_lst = [randint(-5,5) for _ in range(0,100)]\n",
    "el_cnt = dict(zip(set(rnd_lst),[0]*len(rnd_lst)))\n",
    "\n",
    "print(rnd_lst)\n",
    "\n",
    "for key in el_cnt:\n",
    "    for i in rnd_lst:\n",
    "        if i == key:\n",
    "            el_cnt[key] += 1\n",
    "            \n",
    "max_el_cnt = max(el_cnt.values())\n",
    "\n",
    "print(el_cnt)\n",
    "\n",
    "for key, val in el_cnt.items():\n",
    "    if val == max_el_cnt:\n",
    "        print('В списке значение {} встречается чаще всего - {} раз.'.format(key, val))"
   ]
  },
  {
   "cell_type": "code",
   "execution_count": 129,
   "metadata": {},
   "outputs": [
    {
     "name": "stdout",
     "output_type": "stream",
     "text": [
      "Минимальный элемент -10 на позиции 18\n",
      "Минимальный элемент -10 на позиции 74\n",
      "Минимальный элемент -1 на позиции 0\n",
      "Минимальный элемент -1 на позиции 4\n",
      "Минимальный элемент -1 на позиции 11\n",
      "Минимальный элемент -1 на позиции 12\n",
      "Минимальный элемент -1 на позиции 69\n",
      "Минимальный элемент -1 на позиции 75\n",
      "Минимальный элемент -1 на позиции 82\n"
     ]
    }
   ],
   "source": [
    "# 5. В массиве найти максимальный отрицательный элемент. Вывести на экран его значение и позицию в массиве.\n",
    "\n",
    "from random import randint\n",
    "\n",
    "rnd_lst = [randint(-10,10) for _ in range(0,100)]\n",
    "\n",
    "min_el = min(rnd_lst)\n",
    "\n",
    "for idx, i in enumerate(rnd_lst):\n",
    "    if i == min_el and i < 0:\n",
    "        print('Минимальный элемент {} на позиции {}'.format(i, idx))\n",
    "\n",
    "# Вариант 2.\n",
    "# Максимальный отрицательный элемент математически - отрицательный, ближе всего к 0.\n",
    "\n",
    "for i in rnd_lst:\n",
    "    if i < 0 and i > min_el:\n",
    "        min_el = i\n",
    "\n",
    "for idx, i in enumerate(rnd_lst):\n",
    "    if i == min_el and i < 0:\n",
    "        print('Минимальный элемент {} на позиции {}'.format(i, idx))"
   ]
  },
  {
   "cell_type": "code",
   "execution_count": 145,
   "metadata": {},
   "outputs": [
    {
     "name": "stdout",
     "output_type": "stream",
     "text": [
      "Сумма элементов = -12\n"
     ]
    }
   ],
   "source": [
    "# 6. В одномерном массиве найти сумму элементов, находящихся между минимальным и максимальным элементами.\n",
    "# Сами минимальный и максимальный элементы в сумму не включать.\n",
    "# Уточнение: между max- и min-елементами, которые стоят на максимальном расстоянии друг от друга.\n",
    "\n",
    "from random import randint\n",
    "\n",
    "rnd_lst = [randint(-10,10) for _ in range(0,100)]\n",
    "\n",
    "max_el = max(rnd_lst)\n",
    "max_el_pos = 0\n",
    "min_el = min(rnd_lst)\n",
    "min_el_pos = len(rnd_lst)\n",
    "\n",
    "for idx, i in enumerate(rnd_lst):\n",
    "    if i == min_el and min_el_pos > idx:\n",
    "        min_el_pos = idx\n",
    "    elif i == max_el and min_el_pos < idx:\n",
    "        max_el_pos = idx\n",
    "\n",
    "if max_el_pos > min_el_pos:\n",
    "    print('Сумма элементов = {}'.format(sum(rnd_lst[min_el_pos + 1:max_el_pos])))\n",
    "elif max_el_pos < min_el_pos:\n",
    "    print('Сумма элементов = {}'.format(sum(rnd_lst[max_el_pos + 1:min_el_pos])))"
   ]
  },
  {
   "cell_type": "code",
   "execution_count": 163,
   "metadata": {},
   "outputs": [
    {
     "name": "stdout",
     "output_type": "stream",
     "text": [
      "[-99, -96]\n"
     ]
    }
   ],
   "source": [
    "# 7. В одномерном массиве целых чисел определить два наименьших элемента.\n",
    "# Они могут быть как равны между собой (оба являться минимальными), так и различаться.\n",
    "\n",
    "from random import randint\n",
    "\n",
    "rnd_lst = sorted([randint(-100,100) for _ in range(0,100)])\n",
    "print(rnd_lst[0:2])"
   ]
  },
  {
   "cell_type": "code",
   "execution_count": 186,
   "metadata": {},
   "outputs": [
    {
     "name": "stdout",
     "output_type": "stream",
     "text": [
      "[52, -80, -41, -99, -168]\n",
      "[-13, -13, 32, 66, 72]\n",
      "[59, -56, -79, 100, 24]\n",
      "[-8, -47, -26, -74, -155]\n",
      "[86, -50, -5, -83, -52]\n"
     ]
    }
   ],
   "source": [
    "# 8. Матрица 5x4 заполняется вводом с клавиатуры кроме последних элементов строк.\n",
    "# Программа должна вычислять сумму введенных элементов каждой строки и записывать ее в последнюю ячейку строки.\n",
    "# В конце следует вывести полученную матрицу.\n",
    "\n",
    "from random import randint\n",
    "\n",
    "M = []\n",
    "for i in range(0,5):\n",
    "    M.append([randint(-100,100) for _ in range(0,4)])\n",
    "    sum_row_el = sum(M[i])\n",
    "    M[i].append(sum_row_el)\n",
    "\n",
    "for idx, i in enumerate(M):\n",
    "    print(M[idx])"
   ]
  },
  {
   "cell_type": "code",
   "execution_count": 206,
   "metadata": {},
   "outputs": [
    {
     "name": "stdout",
     "output_type": "stream",
     "text": [
      "[54, 52, 100, 39, 25]\n",
      "[-69, -25, -21, -28, -4]\n",
      "[-57, -2, -6, 25, 34]\n",
      "[-76, 21, -16, 53, 57]\n",
      "[83, -74, -39, 3, -65]\n",
      "Минимальные элементы в столбцах матрицы: [-76, -74, -39, -28, -65]\n",
      "Максимальный из них: -28\n"
     ]
    }
   ],
   "source": [
    "# 9. Найти максимальный элемент среди минимальных элементов столбцов матрицы.\n",
    "\n",
    "from random import randint\n",
    "\n",
    "M = []\n",
    "for i in range(0,5):\n",
    "    M.append([randint(-100,100) for _ in range(0,5)])\n",
    "\n",
    "for idx, i in enumerate(M):\n",
    "    print(M[idx])\n",
    "\n",
    "min_in_col = M[0]\n",
    "\n",
    "for idx, i in enumerate(M):\n",
    "    for j in range(0,len(M[idx])):\n",
    "        if M[idx][j] < min_in_col[j]:\n",
    "            min_in_col[j] =  M[idx][j]\n",
    "\n",
    "print('Минимальные элементы в столбцах матрицы: {}'.format(min_in_col))\n",
    "print('Максимальный из них: {}'.format(max(min_in_col)))"
   ]
  }
 ],
 "metadata": {
  "kernelspec": {
   "display_name": "Python 3",
   "language": "python",
   "name": "python3"
  },
  "language_info": {
   "codemirror_mode": {
    "name": "ipython",
    "version": 3
   },
   "file_extension": ".py",
   "mimetype": "text/x-python",
   "name": "python",
   "nbconvert_exporter": "python",
   "pygments_lexer": "ipython3",
   "version": "3.7.0"
  }
 },
 "nbformat": 4,
 "nbformat_minor": 2
}
