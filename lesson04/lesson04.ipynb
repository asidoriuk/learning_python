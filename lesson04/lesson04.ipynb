{
 "cells": [
  {
   "cell_type": "code",
   "execution_count": 2,
   "metadata": {},
   "outputs": [
    {
     "name": "stdout",
     "output_type": "stream",
     "text": [
      "Введите целое число (последовательность цифр):437264827938472983479203470293480293480298\n",
      "Обратная последовательность: 892084392084392074302974389274839728462734\n",
      "5.560761899999999\n",
      "Введите целое число (последовательность цифр):7593749857934875938745983745983794583794587\n",
      "Обратная последовательность: 7854973854973895473895478395784397589473957\n",
      "3.637926499999999\n"
     ]
    }
   ],
   "source": [
    "import timeit\n",
    "\n",
    "s_code_recursion = \"\"\"\n",
    "def reverse_num(num_str, num_position):\n",
    "    if int(num_str) >= 0:\n",
    "        # базовый случай - дошли до конца строки (разряд единиц в представлении целого цисла)\n",
    "        if num_position == 1:\n",
    "            return str(int(num_str) % 10**num_position // 10**(num_position - 1))\n",
    "        else:\n",
    "            return reverse_num(num_str, num_position - 1) + str(int(num_str) % 10**num_position // 10**(num_position - 1))\n",
    "    else:\n",
    "        return '-' + reverse_num(str(abs(int(num_str))), num_position - 2) + str(abs(int(num_str)) % 10**(num_position - 1) // 10**(num_position - 2))\n",
    "\n",
    "num_str = input('Введите целое число (последовательность цифр):')\n",
    "\n",
    "print('Обратная последовательность: ' + reverse_num(num_str, len(num_str)))\n",
    "\"\"\"\n",
    "\n",
    "print(timeit.timeit(stmt=s_code_recursion, number=1))\n",
    "\n",
    "s_code_str = \"\"\"\n",
    "def reverse_num(num_str):\n",
    "    return num_str[::-1]\n",
    "\n",
    "num_str = input('Введите целое число (последовательность цифр):')\n",
    "\n",
    "print('Обратная последовательность: ' + reverse_num(num_str))\n",
    "\"\"\"\n",
    "\n",
    "print(timeit.timeit(stmt=s_code_str, number=1))"
   ]
  }
 ],
 "metadata": {
  "kernelspec": {
   "display_name": "Python 3",
   "language": "python",
   "name": "python3"
  },
  "language_info": {
   "codemirror_mode": {
    "name": "ipython",
    "version": 3
   },
   "file_extension": ".py",
   "mimetype": "text/x-python",
   "name": "python",
   "nbconvert_exporter": "python",
   "pygments_lexer": "ipython3",
   "version": "3.7.0"
  }
 },
 "nbformat": 4,
 "nbformat_minor": 2
}
