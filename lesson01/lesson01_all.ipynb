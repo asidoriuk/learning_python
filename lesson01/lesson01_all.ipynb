{
 "cells": [
  {
   "cell_type": "code",
   "execution_count": 10,
   "metadata": {},
   "outputs": [
    {
     "name": "stdout",
     "output_type": "stream",
     "text": [
      "Скажите трехзначное целое число: 123\n",
      "Произведение цифр цисла: 6, сумма цифр: 6\n"
     ]
    }
   ],
   "source": [
    "__author__ = 'Алексей Сидорюк'\n",
    "\n",
    "# 1. Найти сумму и произведение цифр трехзначного числа, которое вводит пользователь.\n",
    "\n",
    "sum = 0\n",
    "prod = 1\n",
    "num3 = input('Скажите трехзначное целое число: ')\n",
    "if len(num3) != 3 and num3.isnumeric():\n",
    "    print('Это не трехзначное число.')\n",
    "elif len(num3) == 3 and not num3.isnumeric():\n",
    "    print('Это не число.')\n",
    "else:\n",
    "    for i in num3:\n",
    "        sum += int(i)\n",
    "        prod *= int(i)\n",
    "    print('Произведение цифр цисла: {0}, сумма цифр: {1}'.format(sum, prod))"
   ]
  },
  {
   "cell_type": "code",
   "execution_count": 91,
   "metadata": {},
   "outputs": [
    {
     "name": "stdout",
     "output_type": "stream",
     "text": [
      "5 6\n",
      "0b101 0b110\n",
      "Побитовые операции: или (or), исключающее или (xor), и (and), отрицание - инверсия, потому \"-\" (not)\n",
      "7 3 4 -6\n",
      "0b111 0b11 0b100 -0b110\n",
      "5 умножить на (2 в степени х), целая часть.\n",
      "160 20 1\n",
      "0b10100000 0b10100 0b1\n"
     ]
    }
   ],
   "source": [
    "# 2. Выполнить логические побитовые операции «И», «ИЛИ» и др. над числами 5 и 6.\n",
    "# Выполнить над числом 5 побитовый сдвиг вправо и влево на два знака. Объяснить полученный результат.\n",
    "\n",
    "print(5, 6)\n",
    "print(bin(5), bin(6))\n",
    "print('Побитовые операции: или (or), исключающее или (xor), и (and), отрицание - инверсия, потому \"-\" (not)')\n",
    "print(5|6, 5^6, 5&6, ~5)\n",
    "print(bin(5|6), bin(5^6), bin(5&6), bin(~5))\n",
    "print('5 умножить на (2 в степени х), целая часть.')\n",
    "print(5<<5, 5<<2, 5>>2)\n",
    "print(bin(5<<5), bin(5<<2), bin(5>>2))"
   ]
  },
  {
   "cell_type": "code",
   "execution_count": 46,
   "metadata": {},
   "outputs": [
    {
     "name": "stdout",
     "output_type": "stream",
     "text": [
      "y=1.3333333333333333x+1.0\n"
     ]
    }
   ],
   "source": [
    "# 3. По введенным пользователем координатам двух точек вывести уравнение прямой вида y=kx+b, проходящей через эти точки.\n",
    "\n",
    "# Для простоты зададим точки списком [A,B]=[[x1,y1],[x2,y2]]\n",
    "AB = [[0,1],[3,5]]\n",
    "# True != 0, False = 0\n",
    "if (AB[1][0] - AB[0][0]) and (AB[1][1] - AB[0][1]):\n",
    "    k = (AB[1][1] - AB[0][1])/(AB[1][0] - AB[0][0])\n",
    "    b = (AB[1][0]*AB[0][1]-AB[0][0]*AB[1][1])/(AB[1][0] - AB[0][0])\n",
    "    if b > 0:\n",
    "        print('y={0}x+{1}'.format(k,b))\n",
    "    else:\n",
    "        print('y={0}x{1}'.format(k,b))\n",
    "# если x-координаты точек совпадают\n",
    "elif (AB[1][0] - AB[0][0]) == 0 and (AB[1][1] - AB[0][1]):\n",
    "    print('x={0}'.format(AB[1][0]))\n",
    "# если y-координаты точек совпадают\n",
    "elif (AB[1][1] - AB[0][1]) == 0 and (AB[1][0] - AB[0][0]):\n",
    "    print('y={0}'.format(AB[0][1]))\n",
    "# если координаты точек совпадают\n",
    "elif (AB[1][0] - AB[0][0]) == 0 and (AB[1][1] - AB[0][1]) == 0:\n",
    "    print('Через одну точку может проходить бесконечно много прямых')"
   ]
  },
  {
   "cell_type": "code",
   "execution_count": 111,
   "metadata": {},
   "outputs": [
    {
     "name": "stdout",
     "output_type": "stream",
     "text": [
      "39\n",
      "-50.008350508058584\n",
      "H\n"
     ]
    }
   ],
   "source": [
    "# 4. Написать программу, которая генерирует в указанных пользователем границах:\n",
    "# - случайное целое число;\n",
    "# - случайное вещественное число;\n",
    "# - случайный символ.\n",
    "\n",
    "import random\n",
    "#import string\n",
    "\n",
    "print(random.randint(0,100))\n",
    "print(random.uniform(-100,100))\n",
    "#print(random.choice(string.ascii_letters[0:90]))\n",
    "print(random.choice([chr(c) for c in range(ord('A'), ord('n')+1)]))"
   ]
  },
  {
   "cell_type": "code",
   "execution_count": 133,
   "metadata": {},
   "outputs": [
    {
     "name": "stdout",
     "output_type": "stream",
     "text": [
      "x\n",
      "o\n",
      "120 111  и между ними 9 символов.\n"
     ]
    }
   ],
   "source": [
    "# 5. Пользователь вводит две буквы. Определить, на каких местах алфавита они стоят и сколько между ними находится букв.\n",
    "\n",
    "a, b = [input() for _ in range(2)]\n",
    "if len(a) and len(b):\n",
    "    print(ord(a), ord(b), ' и между ними {0} символов.'.format(abs(ord(a)-ord(b))))"
   ]
  },
  {
   "cell_type": "code",
   "execution_count": 138,
   "metadata": {},
   "outputs": [
    {
     "name": "stdout",
     "output_type": "stream",
     "text": [
      "121\n",
      "y\n"
     ]
    }
   ],
   "source": [
    "# 6. Пользователь вводит номер буквы в алфавите. Определить, какая это буква.\n",
    "\n",
    "x = input()\n",
    "if len(x) > 0:\n",
    "    print(chr(int(x)))"
   ]
  },
  {
   "cell_type": "code",
   "execution_count": 64,
   "metadata": {},
   "outputs": [
    {
     "name": "stdout",
     "output_type": "stream",
     "text": [
      "Треугольник из этого не собрать.\n"
     ]
    }
   ],
   "source": [
    "# 7. По длинам трех отрезков, введенных пользователем, определить возможность существования треугольника, составленного из этих отрезков.\n",
    "# Если такой треугольник существует, то определить, является ли он разносторонним, равнобедренным или равносторонним.\n",
    "\n",
    "# Задаем длины отрезков списком:\n",
    "t = [1,0,-2]\n",
    "# Если длина какого-то отрезка больше суммы двух оставшихся, треугольник в плоском пространстве не получится.\n",
    "# Вырожденный треугольник (отрезок, точка) - тоже треугольник. :)\n",
    "sum12 = t[0]+t[1]\n",
    "sum23 = t[1]+t[2]\n",
    "sum31 = t[2]+t[0]\n",
    "if t[0] > sum23 or t[1] > sum31 or t[2] > sum12:\n",
    "    print('Треугольник из этого не собрать.')\n",
    "else:\n",
    "    if t[0] == t[1] == t[2]:\n",
    "        print('Треугольник равносторонний.')\n",
    "    elif t[0] == t[1] or t[1] == t[2] or t[2] == t[0]:\n",
    "        print('Треугольник равнобедренный.')\n",
    "    else:\n",
    "        print('Треугольник разносторонний.')"
   ]
  },
  {
   "cell_type": "code",
   "execution_count": 45,
   "metadata": {},
   "outputs": [
    {
     "name": "stdout",
     "output_type": "stream",
     "text": [
      "Введите год для проверки, високосный ли он: -400\n",
      "Год -400 високосный.\n"
     ]
    }
   ],
   "source": [
    "# 8. Определить, является ли год, который ввел пользователем, високосным или невисокосным.\n",
    "'''Год високосный, если он делится на четыре без остатка, но если он делится на 100 без остатка, это не високосный год.\n",
    "Однако, если он делится без остатка на 400, это високосный год.'''\n",
    "\n",
    "year = input('Введите год для проверки, високосный ли он: ')\n",
    "if int(year)%4 == 0 and int(year)%100 != 0:\n",
    "    print('Год {0} високосный.'.format(year))\n",
    "elif int(year)%400 == 0:\n",
    "    print('Год {0} високосный.'.format(year))\n",
    "else:\n",
    "    print('Год {0} не високосный.'.format(year))"
   ]
  },
  {
   "cell_type": "code",
   "execution_count": 81,
   "metadata": {},
   "outputs": [
    {
     "name": "stdout",
     "output_type": "stream",
     "text": [
      "Среднее число: 1\n"
     ]
    }
   ],
   "source": [
    "# 9. Вводятся три разных числа. Найти, какое из них является средним (больше одного, но меньше другого).\n",
    "\n",
    "lst = [1,-1,3]\n",
    "if len(lst) == 3:\n",
    "    if lst[0] > lst[1] and lst[0] < lst[2] or lst[0] < lst[1] and lst[0] > lst[2]:\n",
    "        print('Среднее число: {0}'.format(lst[0]))\n",
    "    elif lst[1] > lst[2] and lst[1] < lst[0] or lst[1] < lst[2] and lst[1] > lst[0]:\n",
    "        print('Среднее число: {0}'.format(lst[1]))\n",
    "    elif lst[2] > lst[0] and lst[2] < lst[1] or lst[2] < lst[0] and lst[2] > lst[1]:\n",
    "        print('Среднее число: {0}'.format(lst[2]))\n",
    "    else:\n",
    "        print('Есть совпадающие числа.')\n",
    "else:\n",
    "    print('Задано не 3 числа.')"
   ]
  }
 ],
 "metadata": {
  "kernelspec": {
   "display_name": "Python 3",
   "language": "python",
   "name": "python3"
  },
  "language_info": {
   "codemirror_mode": {
    "name": "ipython",
    "version": 3
   },
   "file_extension": ".py",
   "mimetype": "text/x-python",
   "name": "python",
   "nbconvert_exporter": "python",
   "pygments_lexer": "ipython3",
   "version": "3.7.0"
  }
 },
 "nbformat": 4,
 "nbformat_minor": 2
}
