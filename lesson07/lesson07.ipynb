{
 "cells": [
  {
   "cell_type": "code",
   "execution_count": 19,
   "metadata": {},
   "outputs": [
    {
     "name": "stdout",
     "output_type": "stream",
     "text": [
      "[-92, -61, -56, -37, 14, -23, 56, -97, -94, 9, 73, 46, 40, 20, 25, 47, 30, 78, 93, 72]\n",
      "[-97, -94, -92, -61, -56, -37, -23, 9, 14, 20, 25, 30, 40, 46, 47, 56, 72, 73, 78, 93]\n"
     ]
    }
   ],
   "source": [
    "__author__: str = 'Алексей Сидорюк'\n",
    "\n",
    "\n",
    "from random import randint\n",
    "lst2sort = [randint(-100,100) for _ in range(-10,10)]\n",
    "\n",
    "print(lst2sort)\n",
    "\n",
    "lst_sorted = lst2sort[:]\n",
    "\n",
    "i = 1\n",
    "\n",
    "while i < len(lst_sorted):\n",
    "    for j in range(len(lst_sorted) - i):\n",
    "        if lst_sorted[j] > lst_sorted[j + 1]:\n",
    "               lst_sorted[j], lst_sorted[j + 1] = lst_sorted[j + 1], lst_sorted[j]\n",
    "    i += 1\n",
    "\n",
    "print(lst_sorted)\n"
   ]
  }
 ],
 "metadata": {
  "kernelspec": {
   "display_name": "Python 3",
   "language": "python",
   "name": "python3"
  },
  "language_info": {
   "codemirror_mode": {
    "name": "ipython",
    "version": 3
   },
   "file_extension": ".py",
   "mimetype": "text/x-python",
   "name": "python",
   "nbconvert_exporter": "python",
   "pygments_lexer": "ipython3",
   "version": "3.7.0"
  }
 },
 "nbformat": 4,
 "nbformat_minor": 2
}
