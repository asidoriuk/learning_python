{
 "cells": [
  {
   "cell_type": "code",
   "execution_count": 4,
   "metadata": {},
   "outputs": [
    {
     "name": "stdout",
     "output_type": "stream",
     "text": [
      "[16, 32, -11, -95, -85, -88, 50, 83, 58, 78, -91, -35, -30, 49, 18, -30, 10, -29, 27, 13, 81, 75, -37, 53, 50, 66, -5, 97, -85, 71, -87, 86, 27, -44, -11, -21, 13, 70, 45, -4, 63, -8, -68, 38, -34, -71, -92, -74, -8, 38, 29, 53, 67, 93, -24, -28, -93, 62, 99, -58, 1, -18, 10, -12, -31, 89, -65, -34, 48, -41, 56, 26, -26, -4, -95, -72, 20, 98, -32, -19, 5, 73, 63, 22, -67, -59, -90, 68, 65, 33, 87, 28, -57, -6, 67, 83, -50, 29, 94, -7, -77, 75, -35, 68, -63, -61, -58, -81, -23, -62, 41, 53, -2, 59, 45, -1, -31, -21, 84, 63, 24, 92, 41, 71, -95, 95, -37, -8, 93, 20, -23, 60, -61, -8, -36, -73, -90, 2, -80, 82, 99, -74, 63, -71, 99, 77, 69, 63, -72, -90, 69, 91, 2, 7, -7, -40, 65, -27, -7, -15, -28, 33, 52, -73, 96, -67, -70, 47, 15, -47, 81, 81, 79, -60, -93, 80, 51, 32, 31, -42, -37, 53, 78, -96, 26, 51, 17, 5, -37, 4, 89, 1, 11, 7, -2, 76, 28, -80, 11, -49]\n"
     ]
    },
    {
     "ename": "IndexError",
     "evalue": "list index out of range",
     "output_type": "error",
     "traceback": [
      "\u001b[1;31m---------------------------------------------------------------------------\u001b[0m",
      "\u001b[1;31mIndexError\u001b[0m                                Traceback (most recent call last)",
      "\u001b[1;32m<ipython-input-4-ce2fda1059b3>\u001b[0m in \u001b[0;36m<module>\u001b[1;34m\u001b[0m\n\u001b[0;32m     13\u001b[0m \u001b[1;32mwhile\u001b[0m \u001b[0mi\u001b[0m \u001b[1;33m<\u001b[0m \u001b[0mlen\u001b[0m\u001b[1;33m(\u001b[0m\u001b[0mlst_sorted\u001b[0m\u001b[1;33m)\u001b[0m\u001b[1;33m:\u001b[0m\u001b[1;33m\u001b[0m\u001b[0m\n\u001b[0;32m     14\u001b[0m     \u001b[1;32mfor\u001b[0m \u001b[0mj\u001b[0m \u001b[1;32min\u001b[0m \u001b[0mrange\u001b[0m\u001b[1;33m(\u001b[0m\u001b[0mlen\u001b[0m\u001b[1;33m(\u001b[0m\u001b[0mlst_sorted\u001b[0m\u001b[1;33m)\u001b[0m \u001b[1;33m-\u001b[0m \u001b[0mi\u001b[0m\u001b[1;33m)\u001b[0m\u001b[1;33m:\u001b[0m\u001b[1;33m\u001b[0m\u001b[0m\n\u001b[1;32m---> 15\u001b[1;33m         \u001b[1;32mif\u001b[0m \u001b[0mlst_sorted\u001b[0m\u001b[1;33m[\u001b[0m\u001b[0mj\u001b[0m\u001b[1;33m]\u001b[0m \u001b[1;33m>\u001b[0m \u001b[0mlst_sorted\u001b[0m\u001b[1;33m[\u001b[0m\u001b[0mj\u001b[0m \u001b[1;33m+\u001b[0m \u001b[1;36m1\u001b[0m\u001b[1;33m]\u001b[0m\u001b[1;33m:\u001b[0m\u001b[1;33m\u001b[0m\u001b[0m\n\u001b[0m\u001b[0;32m     16\u001b[0m                \u001b[0mlst_sorted\u001b[0m\u001b[1;33m[\u001b[0m\u001b[0mj\u001b[0m\u001b[1;33m]\u001b[0m\u001b[1;33m,\u001b[0m \u001b[0mlst_sorted\u001b[0m\u001b[1;33m[\u001b[0m\u001b[0mj\u001b[0m \u001b[1;33m+\u001b[0m \u001b[1;36m1\u001b[0m\u001b[1;33m]\u001b[0m \u001b[1;33m=\u001b[0m \u001b[0mlst_sorted\u001b[0m\u001b[1;33m[\u001b[0m\u001b[0mj\u001b[0m \u001b[1;33m+\u001b[0m \u001b[1;36m1\u001b[0m\u001b[1;33m]\u001b[0m\u001b[1;33m,\u001b[0m \u001b[0mlst_sorted\u001b[0m\u001b[1;33m[\u001b[0m\u001b[0mj\u001b[0m\u001b[1;33m]\u001b[0m\u001b[1;33m\u001b[0m\u001b[0m\n\u001b[0;32m     17\u001b[0m         \u001b[0mi\u001b[0m \u001b[1;33m+=\u001b[0m \u001b[1;36m1\u001b[0m\u001b[1;33m\u001b[0m\u001b[0m\n",
      "\u001b[1;31mIndexError\u001b[0m: list index out of range"
     ]
    }
   ],
   "source": [
    "__author__: str = 'Алексей Сидорюк'\n",
    "\n",
    "\n",
    "from random import randint\n",
    "lst2sort = [randint(-100,100) for _ in range(-100,100)]\n",
    "\n",
    "print(lst2sort)\n",
    "\n",
    "lst_sorted = lst2sort[:]\n",
    "\n",
    "i = 0\n",
    "\n",
    "while i < len(lst_sorted):\n",
    "    for j in range(len(lst_sorted) - i):\n",
    "        if lst_sorted[j] > lst_sorted[j + 1]:\n",
    "               lst_sorted[j], lst_sorted[j + 1] = lst_sorted[j + 1], lst_sorted[j]\n",
    "        i += 1\n",
    "\n",
    "print(lst_sorted)"
   ]
  }
 ],
 "metadata": {
  "kernelspec": {
   "display_name": "Python 3",
   "language": "python",
   "name": "python3"
  },
  "language_info": {
   "codemirror_mode": {
    "name": "ipython",
    "version": 3
   },
   "file_extension": ".py",
   "mimetype": "text/x-python",
   "name": "python",
   "nbconvert_exporter": "python",
   "pygments_lexer": "ipython3",
   "version": "3.7.0"
  }
 },
 "nbformat": 4,
 "nbformat_minor": 2
}
