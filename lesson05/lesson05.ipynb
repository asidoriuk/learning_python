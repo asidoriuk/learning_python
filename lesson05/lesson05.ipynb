{
 "cells": [
  {
   "cell_type": "code",
   "execution_count": 54,
   "metadata": {},
   "outputs": [
    {
     "name": "stdout",
     "output_type": "stream",
     "text": [
      "C0484B08980\n",
      "13213545564544\n",
      "180909611300\n",
      "180909611300\n",
      "906C84F72ED38959DA4000\n",
      "906C84F72ED38959DA4000\n"
     ]
    }
   ],
   "source": [
    "__author__: str = 'Алексей Сидорюк'\n",
    "\n",
    "\n",
    "dec2hex_digit = {10: 'A', 11: 'B', 12: 'C', 13: 'D', 14: 'E', 15: 'F'}\n",
    "hex2dec_digit = {'A': 10, 'B': 11, 'C': 12, 'D': 13, 'E': 14, 'F': 15}\n",
    "\n",
    "\n",
    "def dec2hex(num):\n",
    "    if str(num).isdigit():\n",
    "        if num in dec2hex_digit.keys():\n",
    "            return dec2hex_digit[num]\n",
    "        elif abs(num) <= 9:\n",
    "            return str(num)\n",
    "        else:\n",
    "            return str(dec2hex(num // 16)) + str(dec2hex(num % 16))\n",
    "    else:\n",
    "        print('Введено не десятичное число.')\n",
    "\n",
    "\n",
    "def hex2dec(hex_num):\n",
    "    num = 0\n",
    "    deg = len(hex_num) - 1\n",
    "\n",
    "    if str(hex_num)[0].upper() == '-':\n",
    "        deg -= 1\n",
    "        for hex_digit in str(hex_num)[1:]:\n",
    "            if not hex_digit.isdigit() and hex_digit.upper() not in hex2dec_digit.keys():\n",
    "                print('Введено не шестнадцатеричное число.')\n",
    "                return\n",
    "            else:\n",
    "                if hex_digit.upper() in hex2dec_digit.keys():\n",
    "                    num = hex2dec_digit[hex_digit.upper()] * (16 ** deg) + num\n",
    "                elif hex_digit.isdigit():\n",
    "                    num = int(hex_digit) * (16 ** deg) + num\n",
    "            deg -= 1\n",
    "    else:\n",
    "        for hex_digit in str(hex_num):\n",
    "            if not hex_digit.isdigit() and hex_digit.upper() not in hex2dec_digit.keys():\n",
    "                print('Введено не шестнадцатеричное число.')\n",
    "                return\n",
    "            else:\n",
    "                if hex_digit.upper() in hex2dec_digit.keys():\n",
    "                    num = hex2dec_digit[hex_digit.upper()] * (16 ** deg) + num\n",
    "                elif hex_digit.isdigit():\n",
    "                    num = int(hex_digit) * (16 ** deg) + num\n",
    "            deg -= 1\n",
    "\n",
    "    if str(hex_num)[0].upper() == '-':\n",
    "        return -num\n",
    "    else:\n",
    "        return num\n",
    "\n"
   ]
  },
  {
   "cell_type": "code",
   "execution_count": 28,
   "metadata": {},
   "outputs": [
    {
     "name": "stdout",
     "output_type": "stream",
     "text": [
      "-13213545564544\n"
     ]
    }
   ],
   "source": [
    "hex2dec_digit = {'A': 10, 'B': 11, 'C': 12, 'D': 13, 'E': 14, 'F': 15}\n",
    "\n",
    "def hex2dec(hex_num):\n",
    "    num = 0\n",
    "    deg = len(hex_num) - 1\n",
    "\n",
    "    if str(hex_num)[0].upper() == '-':\n",
    "        deg -= 1\n",
    "        for hex_digit in str(hex_num)[1:]:\n",
    "            if not hex_digit.isdigit() and hex_digit.upper() not in hex2dec_digit.keys():\n",
    "                print('Введено не шестнадцатеричное число.')\n",
    "                return\n",
    "            else:\n",
    "                if hex_digit.upper() in hex2dec_digit.keys():\n",
    "                    num = hex2dec_digit[hex_digit.upper()]*(16**deg) + num\n",
    "                elif hex_digit.isdigit():\n",
    "                    num = int(hex_digit)*(16**deg) + num\n",
    "            deg -= 1\n",
    "    else:\n",
    "        for hex_digit in str(hex_num):\n",
    "            if not hex_digit.isdigit() and hex_digit.upper() not in hex2dec_digit.keys():\n",
    "                print('Введено не шестнадцатеричное число.')\n",
    "                return\n",
    "            else:\n",
    "                if hex_digit.upper() in hex2dec_digit.keys():\n",
    "                    num = hex2dec_digit[hex_digit.upper()]*(16**deg) + num\n",
    "                elif hex_digit.isdigit():\n",
    "                    num = int(hex_digit)*(16**deg) + num\n",
    "            deg -= 1\n",
    "\n",
    "    if str(hex_num)[0].upper() == '-':\n",
    "        return -num\n",
    "    else:\n",
    "        return num\n",
    "\n",
    "print(hex2dec('-C0484B08980'))"
   ]
  }
 ],
 "metadata": {
  "kernelspec": {
   "display_name": "Python 3",
   "language": "python",
   "name": "python3"
  },
  "language_info": {
   "codemirror_mode": {
    "name": "ipython",
    "version": 3
   },
   "file_extension": ".py",
   "mimetype": "text/x-python",
   "name": "python",
   "nbconvert_exporter": "python",
   "pygments_lexer": "ipython3",
   "version": "3.7.0"
  }
 },
 "nbformat": 4,
 "nbformat_minor": 2
}
